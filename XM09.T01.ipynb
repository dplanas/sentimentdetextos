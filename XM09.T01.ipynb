{
 "cells": [
  {
   "cell_type": "markdown",
   "id": "fdb0a3ee",
   "metadata": {},
   "source": [
    "![Images](Images/ITAcademy.png)\n",
    "# CIÈNCIA DE DADES: M09.T01\n",
    "#### Created by: Dani Planas Montserrat\n"
   ]
  },
  {
   "cell_type": "code",
   "execution_count": 109,
   "id": "beb6ddc4",
   "metadata": {
    "code_folding": [],
    "run_control": {
     "marked": true
    },
    "scrolled": false
   },
   "outputs": [],
   "source": [
    "\n",
    "# import libraries\n",
    "import numpy as np\n",
    "import pandas as pd\n",
    "import matplotlib.pyplot as plt\n",
    "import seaborn as sns\n",
    "import warnings\n",
    "import re\n",
    "import statistics\n",
    "#Import library MySql\n",
    "import mysql.connector\n",
    "\n",
    "#Import Library Preprocessing and modeling\n",
    "from scipy.stats import pearsonr\n",
    "from sklearn.linear_model import LinearRegression\n",
    "from sklearn.model_selection import train_test_split\n",
    "from sklearn.metrics import r2_score\n",
    "from sklearn.metrics import mean_squared_error\n",
    "import statsmodels.api as sm\n",
    "import statsmodels.formula.api as smf\n",
    "\n",
    "\n",
    "# Import Library\n",
    "from ip2geotools.databases.noncommercial import DbIpCity\n",
    "\n",
    "\n",
    "warnings.filterwarnings('ignore')\n"
   ]
  },
  {
   "cell_type": "code",
   "execution_count": 110,
   "id": "eb266d2d",
   "metadata": {
    "code_folding": [
     20
    ],
    "run_control": {
     "marked": false
    }
   },
   "outputs": [],
   "source": [
    "#************************************************************************************\n",
    "#***************************     READ Files Functions      **************************\n",
    "#************************************************************************************\n",
    "#Function for Read *.csv file (Import Data)\n",
    "def openFileTXT(path_name):\n",
    "    \n",
    "    # Read *.csv file (Import Data)\n",
    "    df = pd.read_csv(path_name, sep=',', names=movie_column_l, encoding = 'ISO-8859-1', index_col=0, engine='python')\n",
    "\n",
    "    return df\n",
    "\n",
    "#Function for Read *.txt file (Import Data)\n",
    "def openFileTable(path_name, file_name, separator, movie_column_l):\n",
    "\n",
    "    # Read *.txt file (Import Data)\n",
    "    df = pd.read_table(path_name + file_name, sep=separator, names=movie_column_l, header=None,  engine='python')\n",
    "    \n",
    "    return df\n",
    "\n",
    "#Function for Read *.parquet file (Import Data)\n",
    "def openFileParquet(path_name, file_name):\n",
    "    \n",
    "    #Import library pyarrow for read files with extenison \"parquet\" \n",
    "    import pyarrow \n",
    "    # Read *.txt file (Import Data)\n",
    "    #df = pd.read_table(path_name + file_name, sep=separator, names=movie_column_l, header=None,  engine='python')\n",
    "    df = pd.read_parquet(path_name + file_name, engine='pyarrow')\n",
    "    \n",
    "    return df\n",
    "\n",
    "\n"
   ]
  },
  {
   "cell_type": "code",
   "execution_count": 111,
   "id": "638e8ab1",
   "metadata": {
    "code_folding": [
     0,
     4,
     24,
     43,
     61,
     78,
     95,
     111,
     167
    ],
    "run_control": {
     "marked": false
    }
   },
   "outputs": [],
   "source": [
    "#************************************************************************************\n",
    "#******************************      PLOT Functions     *****************************\n",
    "#************************************************************************************\n",
    "#Function plot, type Histogram (one categoric value)\n",
    "def plotHistogram(df):\n",
    "    \n",
    "    # create a dataset\n",
    "    height = df\n",
    "    bars = df.index\n",
    "    x_pos = np.arange(len(bars))\n",
    "\n",
    "    # Create bars with different colors\n",
    "    #plt.bar(x_pos, height, color=['black', 'red', 'green', 'blue', 'cyan'])\n",
    "    plt.bar(x_pos, height, color=['green'])\n",
    "    # Create names on the x-axis\n",
    "    plt.xticks(x_pos,bars)\n",
    "\n",
    "    # Show graphic\n",
    "    fig = plt.gcf()\n",
    "    plt.show()\n",
    "\n",
    "    return fig\n",
    "\n",
    "#Function plot, type Histogram (one Numeric value)\n",
    "def plotHistogram2(df,paramNum):\n",
    "    \n",
    "    # create a dataset\n",
    "    height = df[paramNum]\n",
    "    bars = df.index\n",
    "    x_pos = np.arange(len(bars))\n",
    "\n",
    "    # Create bars with different colors\n",
    "    #plt.bar(x_pos, height, color=['black', 'red', 'green', 'blue', 'cyan'])\n",
    "    plt.bar(x_pos, height, color=['yellow'])\n",
    "    # Create names on the x-axis\n",
    "    plt.xticks(x_pos,bars)\n",
    "\n",
    "    # Show graphic\n",
    "    fig = plt.gcf()\n",
    "    plt.show()\n",
    "\n",
    "    return fig\n",
    "\n",
    "def plotDensityPlot(df):\n",
    "    # library & dataset\n",
    "    import seaborn as sns\n",
    "    \n",
    "    # set a grey background (use sns.set_theme() if seaborn version 0.11.0 or above) \n",
    "    sns.set(style=\"darkgrid\")\n",
    "\n",
    "    # plotting both distibutions on the same figure\n",
    "    fig = sns.kdeplot(df, shade=True, color=\"r\")\n",
    "    #fig = sns.kdeplot(df[paramNum2], shade=True, color=\"b\")\n",
    "\n",
    "    # Show graphic\n",
    "    fig = plt.gcf()\n",
    "    plt.show()\n",
    "\n",
    "    return fig\n",
    "\n",
    "#Function plot, with Seaborn Library and type ScatterPlot\n",
    "def plotSnsScatterplot(df, paramNum1, paramNum2, title, ylabel, xlabel):\n",
    "\n",
    "    g = sns.FacetGrid(df)\n",
    "    g.map(sns.scatterplot, paramNum1, paramNum2, alpha=.7)\n",
    "    g.add_legend()\n",
    "\n",
    "    plt.title(title)\n",
    "    plt.ylabel(ylabel)\n",
    "    plt.xlabel(xlabel)\n",
    "    \n",
    "    # Show graphic\n",
    "    fig = plt.gcf()\n",
    "    plt.show()\n",
    "\n",
    "    return fig\n",
    "\n",
    "#Function plot, with Seaborn Library and type LinePlot\n",
    "def plotSnsLineplot(df, paramNum1, paramNum2, title, ylabel, xlabel):\n",
    "\n",
    "    g = sns.FacetGrid(df)\n",
    "    g.map(sns.lineplot, paramNum1, paramNum2, alpha=.7)\n",
    "    g.add_legend()\n",
    "    \n",
    "    plt.title(title)\n",
    "    plt.ylabel(ylabel)\n",
    "    plt.xlabel(xlabel)\n",
    "    \n",
    "    # Show graphic\n",
    "    fig = plt.gcf()\n",
    "    plt.show()\n",
    "\n",
    "    return fig\n",
    "\n",
    "#Function plot, with Seaborn Library and type HistPlot\n",
    "def plotSnsHistplot(df, paramNum1, title, ylabel, xlabel, binsNum):\n",
    "  \n",
    "    sns.histplot(data=df, x=paramNum1, bins=binsNum, kde=True)\n",
    "    #g.add_legend()\n",
    "    \n",
    "    plt.title(title)\n",
    "    plt.ylabel(ylabel)\n",
    "    plt.xlabel(xlabel)\n",
    "    \n",
    "    # Show graphic\n",
    "    fig = plt.gcf()\n",
    "    plt.show()\n",
    "\n",
    "    return fig\n",
    "\n",
    "#Function plot, type Stacked Area Chart (with 3 numeric values and 1 categoric value)   \n",
    "def plotBarplotMultiple(df, paramNum1, paramNum2, paramNum3, Sel3):\n",
    "        # libraries\n",
    "        import numpy as np\n",
    "        import matplotlib.pyplot as plt\n",
    "\n",
    "        # width of the bars\n",
    "        barWidth = 0.3\n",
    "        \n",
    "        # Choose the height of the blue bars\n",
    "        bars1 = df\n",
    "\n",
    "        if (Sel3 == 2):\n",
    "            # Choose the height of the cyan bars\n",
    "            bars2 = df[paramNum2] \n",
    "\n",
    "        if (Sel3 == 3):\n",
    "            # Choose the height of the cyan bars\n",
    "            bars3 = df[paramNum3] \n",
    "        \n",
    "        # Choose the height of the error bars (bars1)\n",
    "        yer1 = np.arange(len(bars1))\n",
    "\n",
    "        # Choose the height of the error bars (bars2)\n",
    "        yer2 = np.arange(len(bars1))\n",
    "        \n",
    "        #print(title) by groups of bars\n",
    "        title = df.index \n",
    "        \n",
    "        # The x position of bars\n",
    "        r1 = np.arange(len(bars1))\n",
    "        r2 = [x + barWidth for x in r1]\n",
    "        r3 = [x + barWidth for x in r2]\n",
    "\n",
    "        # Create blue bars\n",
    "        plt.bar(r1, bars1, width = barWidth, color = 'yellow', edgecolor = 'black', yerr=yer1, capsize=5, label=paramNum1)\n",
    "        \n",
    "        if (Sel3 == 2):\n",
    "            # Create cyan bars\n",
    "            plt.bar(r2, bars2, width = barWidth, color = 'yellow', edgecolor = 'black', yerr=yer2, capsize=7, label=paramNum2)\n",
    "\n",
    "        if (Sel3 == 3):\n",
    "             # Create cyan bars\n",
    "             plt.bar(r3, bars3, width = barWidth, color = 'green', edgecolor = 'black', yerr=yer2, capsize=7, label=paramNum3)\n",
    "   \n",
    "        # general layout\n",
    "        plt.xticks([r + barWidth for r in range(len(bars1))], title)\n",
    "        plt.ylabel('height')\n",
    "        #plt.legend()\n",
    "\n",
    "        # Show graphic\n",
    "        fig = plt.gcf()\n",
    "        plt.show()\n",
    "\n",
    "        return fig\n",
    "\n",
    "#Function plot, show a World Map with Geolocation points from a dataset\n",
    "def plotWorldMapGeolocPoints(df, pLatitud, pLongitud):\n",
    "\n",
    "        bars3 = df[pLatitud] \n",
    "\n",
    "        #Dibujar mapas\n",
    "        from mpl_toolkits.basemap.test import Basemap\n",
    "        import matplotlib.pyplot as plt\n",
    "\n",
    "\n",
    "        #Figure Size\n",
    "        plt.figure(figsize=(16,12))\n",
    "\n",
    "        #Projection Type : robin, ortho ...\n",
    "        my_map=Basemap(projection='robin',lon_0=0,lat_0=0)  #'robin' ,'ortho'\n",
    "\n",
    "        #Draw cost lines and countries\n",
    "        my_map.drawcoastlines()\n",
    "        my_map.drawcountries()\n",
    "\n",
    "        #Define colours\n",
    "        my_map.drawcountries(color='#303338')\n",
    "        my_map.drawmapboundary(fill_color='#c0eaff')\n",
    "        my_map.drawcoastlines(color='#324c87')\n",
    "        my_map.fillcontinents(color='#ebe7d5', lake_color='#c0eaff')\n",
    "\n",
    "\n",
    "        #Place the different locations on the map\n",
    "        for i in range(len(df[pLongitud])):     \n",
    "            x,y = my_map(df[pLongitud][i], df[pLatitud][i])\n",
    "            my_map.plot(x,y, color='g', marker = 'o' , markersize=10 , alpha = 0.9)\n",
    "\n",
    "        return my_map\n",
    "    "
   ]
  },
  {
   "cell_type": "code",
   "execution_count": 112,
   "id": "f1e26d58",
   "metadata": {
    "code_folding": [
     0,
     5
    ],
    "run_control": {
     "marked": false
    }
   },
   "outputs": [],
   "source": [
    "#************************************************************************************\n",
    "#***************************     GEOLOCATION Functions     **************************\n",
    "#************************************************************************************\n",
    "\n",
    "/#Function that give us information on the location of an IP adress (Country, latitude, altitude,..)\n",
    "def getInfoGeolocation(x, num):\n",
    "    \n",
    "\n",
    "    \n",
    "    response = DbIpCity.get(x, api_key='free')\n",
    "    \n",
    "    #(1) Return Name of country\n",
    "    if num==1:\n",
    "        exit = response.country\n",
    "    #(2) Return Name of country\n",
    "    if num==2:\n",
    "        exit = response.latitude\n",
    "    #(3) Return Name of country\n",
    "    if num==3:\n",
    "        exit = response.longitude\n",
    "   \n",
    "    #ip = str(dfLogWeb['IP'][1])\n",
    "    #response = DbIpCity.get(ip, api_key='free')\n",
    "    #response.ip_address\n",
    "    #print(response.city)\n",
    "    #print(response.region)\n",
    "    #print(response.country)\n",
    "\n",
    "    #print(response.latitude)\n",
    "    #print(response.longitude)\n",
    "    #print(response.to_json())\n",
    "    return exit\n",
    "\n"
   ]
  },
  {
   "cell_type": "code",
   "execution_count": 113,
   "id": "61736a52",
   "metadata": {
    "code_folding": [
     0,
     10,
     17,
     50
    ],
    "run_control": {
     "marked": false
    }
   },
   "outputs": [],
   "source": [
    "#************************************************************************************\n",
    "#***************************        SAMPLE Functions       **************************\n",
    "#************************************************************************************\n",
    "#Function for doing a Simple Random Sampling from a dataset\n",
    "def simpleSampling(df, num_sample):\n",
    "    \n",
    "    dfSample = df.sample(num_sample)          # Select X sample points from dataset\n",
    "    return dfSample                           # Return result\n",
    "\n",
    "# Function for doing a Systematic Sampling from dataset\n",
    "def systematicSampling(df, start, step):\n",
    " \n",
    "    indexes = np.arange(start, len(df), step=step)\n",
    "    systematic_sample = df.iloc[indexes]\n",
    "    return systematic_sample\n",
    "\n",
    "# Function for doing a Stratified Sampling from dataset (able for 3 subgroups)\n",
    "def stratifiedSampling3Group(df, group, subgName1, subgName2, subgName3, samplePercentage):\n",
    " \n",
    "    # STEP1: Divide de Group in subgroups (STRATA)\n",
    "    group1_df = df.groupby(group)\n",
    "    group1_df = group1_df.get_group(subgName1)\n",
    "    nReg_group1 = len(group1_df)\n",
    "#   print('Regsitros Grupo 1:', nReg_group1)\n",
    "#   display(group1_df)\n",
    "\n",
    "    group2_df = df.groupby(group)\n",
    "    group2_df = group2_df.get_group(subgName2)\n",
    "    nReg_group2 = len(group2_df)\n",
    "#   print('Regsitros Grupo 2:', nReg_group2)\n",
    "#   display(group2_df)\n",
    "\n",
    "    group3_df = df.groupby(group)\n",
    "    group3_df = group3_df.get_group(subgName3)\n",
    "    nReg_group3 = len(group3_df)\n",
    "#   print('Regsitros Grupo 3:', nReg_group3)\n",
    "#   display(group3_df)\n",
    "    \n",
    "    # STEP 2: get a percentage from each group\n",
    "    group11_df = group1_df.groupby(group, group_keys=False).apply(lambda x: x.sample(frac=samplePercentage))\n",
    "    group12_df = group2_df.groupby(group, group_keys=False).apply(lambda x: x.sample(frac=samplePercentage))\n",
    "    group13_df = group3_df.groupby(group, group_keys=False).apply(lambda x: x.sample(frac=samplePercentage))\n",
    "\n",
    "    # STEP 3: \n",
    "    dfNew = pd.concat([group11_df, group12_df])\n",
    "    dfNew = pd.concat([dfNew, group13_df])\n",
    "\n",
    "    return dfNew\n",
    "\n",
    "# Function for doing a Systematic Sampling from dataset\n",
    "def reservoirSampling(df, k):\n",
    "          \n",
    "    #Import library\n",
    "    import random\n",
    "    \n",
    "    # Create as stream generator\n",
    "    #stream = dfRunners20['athlete']\n",
    "    stream = df.index\n",
    "    # Doing Reservoir Sampling from the stream\n",
    "    #k=6\n",
    "    reservoir = []\n",
    "    for i, element in enumerate(stream):\n",
    "        if i+1<= k:\n",
    "            reservoir.append(element)\n",
    "        else:\n",
    "            probability = k/(i+1)\n",
    "            if random.random() < probability:\n",
    "                # Select item in stream and remove one of the k items already selected\n",
    "                 reservoir[random.choice(range(0,k))] = element\n",
    "\n",
    "    print(reservoir)\n",
    "    print(len(reservoir))\n",
    "\n",
    "    #Define new dataframe\n",
    "    df_Sample = pd.DataFrame()\n",
    "\n",
    "    #Create a New dataframe with values selected from reservoir sampling\n",
    "    for i in range(len(reservoir)):\n",
    "        num = reservoir[i]\n",
    "        df_Sample = df_Sample.append(df.loc[num],ignore_index=True)\n",
    "        \n",
    "    return df_Sample"
   ]
  },
  {
   "cell_type": "code",
   "execution_count": 114,
   "id": "d7c62715",
   "metadata": {
    "code_folding": [
     0
    ],
    "run_control": {
     "marked": false
    }
   },
   "outputs": [],
   "source": [
    "#************************************************************************************\n",
    "#********************       LINEAR REGRESSION Functions          ********************\n",
    "#************************************************************************************\n",
    "# Function that Split data in train and test:\n",
    "def split_TrainTest(df, Xparam, Yparam):\n",
    "    # split a dataset into train and test sets\n",
    "    from scipy.stats import pearsonr\n",
    "    from sklearn.linear_model import LinearRegression\n",
    "    from sklearn.model_selection import train_test_split\n",
    "    from sklearn.metrics import r2_score\n",
    "    from sklearn.metrics import mean_squared_error\n",
    "    import statsmodels.api as sm\n",
    "    import statsmodels.formula.api as smf\n",
    "\n",
    "    #Split the data into Train(70%) and Test(30%)\n",
    "    X = df[Xparam]\n",
    "    y = df[Yparam]\n",
    "\n",
    "    # Split data in Train () & Test\n",
    "    X_train, X_test, y_train, y_test = train_test_split(\n",
    "                                            X,\n",
    "                                            y,\n",
    "                                            test_size=0.3,\n",
    "                                            random_state = 1)\n",
    "\n",
    "    # Create the Model with Train & Test\n",
    "    model = sm.OLS(endog=y_train, exog=X_train,)\n",
    "    model = model.fit()\n",
    "    print(model.summary())\n",
    "    return model, X_train, X_test, y_train, y_test \n",
    "\n",
    "\n",
    "# Function that Split data in train and test:\n",
    "def split_TrainTest_KNN(df, Xparam, Yparam):\n",
    "    # split a dataset into train and test sets\n",
    "    from scipy.stats import pearsonr\n",
    "    from sklearn.linear_model import LinearRegression\n",
    "    from sklearn.model_selection import train_test_split\n",
    "    from sklearn.metrics import r2_score\n",
    "    from sklearn.metrics import mean_squared_error\n",
    "    import statsmodels.api as sm\n",
    "    import statsmodels.formula.api as smf\n",
    "    from sklearn.neighbors import KNeighborsClassifier\n",
    "    \n",
    "    #Split the data into Train(70%) and Test(30%)\n",
    "    X = df[Xparam]\n",
    "    y = df[Yparam]\n",
    "\n",
    "    # Split data in Train () & Test\n",
    "    X_train, X_test, y_train, y_test = train_test_split(\n",
    "                                            X,\n",
    "                                            y,\n",
    "                                            test_size=0.3,\n",
    "                                            random_state = 1)\n",
    "\n",
    "    # Create the Model with Train & Test\n",
    "    from sklearn.preprocessing import StandardScaler\n",
    "\n",
    "    scaler = StandardScaler()\n",
    "    scaler.fit(X_train)\n",
    "\n",
    "    X_train = scaler.transform(X_train)\n",
    "    X_test = scaler.transform(X_test)\n",
    "    \n",
    "    #Classifier\n",
    "    classifier = KNeighborsClassifier()\n",
    "    classifier.fit(X_train, y_train)\n",
    "    \n",
    "    #print(model.summary())\n",
    "    return classifier, X_train, X_test, y_train, y_test "
   ]
  },
  {
   "cell_type": "code",
   "execution_count": 115,
   "id": "82302db8",
   "metadata": {
    "code_folding": [
     4
    ]
   },
   "outputs": [],
   "source": [
    "#************************************************************************************\n",
    "#***************************     Correlation Functions     **************************\n",
    "#************************************************************************************\n",
    "#Function for convert a correlation matrix in \"tidy\" format\n",
    "def tidy_corr_matrix(corr_mat):\n",
    "\n",
    "    corr_mat = corr_mat.stack().reset_index()\n",
    "    corr_mat.columns = ['var_1','var_2','r']\n",
    "    corr_mat = corr_mat.loc[corr_mat['var_1'] != corr_mat['var_2'], :]\n",
    "    corr_mat['abs_r'] = np.abs(corr_mat['r'])\n",
    "    corr_mat = corr_mat.sort_values('abs_r', ascending=False)\n",
    "    \n",
    "    return(corr_mat)"
   ]
  },
  {
   "cell_type": "code",
   "execution_count": 116,
   "id": "1b48393a",
   "metadata": {},
   "outputs": [
    {
     "name": "stderr",
     "output_type": "stream",
     "text": [
      "[nltk_data] Downloading package punkt to\n",
      "[nltk_data]     C:\\Users\\Virtual\\AppData\\Roaming\\nltk_data...\n",
      "[nltk_data]   Package punkt is already up-to-date!\n"
     ]
    },
    {
     "data": {
      "text/plain": [
       "True"
      ]
     },
     "execution_count": 116,
     "metadata": {},
     "output_type": "execute_result"
    }
   ],
   "source": [
    "#Import Library\n",
    "import nltk\n",
    "nltk.download('punkt')"
   ]
  },
  {
   "cell_type": "code",
   "execution_count": 117,
   "id": "730eeff4",
   "metadata": {
    "code_folding": [],
    "run_control": {
     "marked": true
    }
   },
   "outputs": [
    {
     "name": "stdout",
     "output_type": "stream",
     "text": [
      "['French astronaut Thomas Pesquet spent six months aboard the International \\n     Space Station last year, and his view of the Earth was as alarming as it was breathtaking.', 'Long periods with his feet off solid ground gave him a unique and privileged perspective on \\n     our planet.', 'His Instagram account is bursting with beautiful images of “the blue ball we \\n     call home.” But the beauty is tainted.', 'Pesquet says that even from space the effects of \\n     climate change are visible.', 'He says that since his previous visit to space, in 2016, the consequences of human activity \\n     have become even more apparent, with glaciers visibly retreating, and a rise in extreme \\n     weather events.']\n"
     ]
    }
   ],
   "source": [
    "##########################################################################\n",
    "##                 DATA SCIENCE: M09.T01: Exercici 1                    ##\n",
    "##########################################################################\n",
    "# Exercici 1: Agafa un text en anglès que vulguis, i calcula'n la \n",
    "# freqüència de les paraules.\n",
    "\n",
    "\n",
    "#Import Libraries\n",
    "import nltk  # NLTK library\n",
    "#nltk.download()\n",
    "from nltk import word_tokenize\n",
    "from nltk.tokenize import sent_tokenize\n",
    "\n",
    "text=\"\"\"French astronaut Thomas Pesquet spent six months aboard the International \n",
    "     Space Station last year, and his view of the Earth was as alarming as it was breathtaking.\n",
    "     Long periods with his feet off solid ground gave him a unique and privileged perspective on \n",
    "     our planet. His Instagram account is bursting with beautiful images of “the blue ball we \n",
    "     call home.” But the beauty is tainted. Pesquet says that even from space the effects of \n",
    "     climate change are visible.\n",
    "     He says that since his previous visit to space, in 2016, the consequences of human activity \n",
    "     have become even more apparent, with glaciers visibly retreating, and a rise in extreme \n",
    "     weather events.\"\"\"\n",
    "\n",
    "tokenized_text=sent_tokenize(text)\n",
    "print(tokenized_text)\n",
    "\n"
   ]
  },
  {
   "cell_type": "code",
   "execution_count": 118,
   "id": "53bff0b2",
   "metadata": {},
   "outputs": [
    {
     "name": "stdout",
     "output_type": "stream",
     "text": [
      "['French', 'astronaut', 'Thomas', 'Pesquet', 'spent', 'six', 'months', 'aboard', 'the', 'International', 'Space', 'Station', 'last', 'year', ',', 'and', 'his', 'view', 'of', 'the', 'Earth', 'was', 'as', 'alarming', 'as', 'it', 'was', 'breathtaking', '.', 'Long', 'periods', 'with', 'his', 'feet', 'off', 'solid', 'ground', 'gave', 'him', 'a', 'unique', 'and', 'privileged', 'perspective', 'on', 'our', 'planet', '.', 'His', 'Instagram', 'account', 'is', 'bursting', 'with', 'beautiful', 'images', 'of', '“', 'the', 'blue', 'ball', 'we', 'call', 'home.', '”', 'But', 'the', 'beauty', 'is', 'tainted', '.', 'Pesquet', 'says', 'that', 'even', 'from', 'space', 'the', 'effects', 'of', 'climate', 'change', 'are', 'visible', '.', 'He', 'says', 'that', 'since', 'his', 'previous', 'visit', 'to', 'space', ',', 'in', '2016', ',', 'the', 'consequences', 'of', 'human', 'activity', 'have', 'become', 'even', 'more', 'apparent', ',', 'with', 'glaciers', 'visibly', 'retreating', ',', 'and', 'a', 'rise', 'in', 'extreme', 'weather', 'events', '.']\n"
     ]
    }
   ],
   "source": [
    "from nltk.tokenize import word_tokenize\n",
    "\n",
    "# Split a text in words\n",
    "tokenized_word=word_tokenize(text)\n",
    "\n",
    "print(tokenized_word)              # Print Result"
   ]
  },
  {
   "cell_type": "code",
   "execution_count": 119,
   "id": "666893e9",
   "metadata": {},
   "outputs": [
    {
     "name": "stdout",
     "output_type": "stream",
     "text": [
      "<FreqDist with 90 samples and 122 outcomes>\n"
     ]
    }
   ],
   "source": [
    "# Import libraries\n",
    "from nltk.probability import FreqDist\n",
    "\n",
    "# Call function to know the frecuency of samples\n",
    "fdist = FreqDist(tokenized_word)\n",
    "print(fdist)                      # Print Result"
   ]
  },
  {
   "cell_type": "code",
   "execution_count": 120,
   "id": "bd4cfc17",
   "metadata": {},
   "outputs": [
    {
     "data": {
      "text/plain": [
       "[('the', 6), (',', 5), ('.', 5), ('of', 4)]"
      ]
     },
     "execution_count": 120,
     "metadata": {},
     "output_type": "execute_result"
    }
   ],
   "source": [
    "# Call function to know the two most used words\n",
    "fdist.most_common(4)"
   ]
  },
  {
   "cell_type": "code",
   "execution_count": 121,
   "id": "bbc1d349",
   "metadata": {},
   "outputs": [
    {
     "data": {
      "image/png": "[encoded data removed]",
      "text/plain": [
       "<Figure size 432x288 with 1 Axes>"
      ]
     },
     "metadata": {
      "needs_background": "light"
     },
     "output_type": "display_data"
    }
   ],
   "source": [
    "# Frecuency distribution Plot\n",
    "\n",
    "# Import Library\n",
    "import matplotlib.pyplot as plt\n",
    "\n",
    "fdist.plot(30,cumulative=False)\n",
    "plt.show()"
   ]
  },
  {
   "cell_type": "markdown",
   "id": "d5fca137",
   "metadata": {},
   "source": [
    "<span style=color:green><b>FEQÜÈNCIA DE PARAULES</u></b></span> \n",
    "\n",
    "\n",
    "Després de l'anlàsis anterior podem observar que les paraules amb més freqüència que trobem en el text són \"the\"  amb una freqüència de 6, segueides dels caràcters \",\" i \".\" amb una freqüncia de 5 i la paraula \"of\" amb una freqüència de 4.\n"
   ]
  },
  {
   "cell_type": "code",
   "execution_count": 122,
   "id": "548a1005",
   "metadata": {},
   "outputs": [
    {
     "name": "stdout",
     "output_type": "stream",
     "text": [
      "Les 'Stop words' són les següents:\n",
      "{'am', 'so', 's', 'his', \"won't\", 'should', 'both', 'them', 'mustn', 'most', 'i', 'here', \"you've\", 'o', 'into', 'has', 'then', 'further', 'herself', 'to', 'out', 'been', 'before', 'any', 'an', 'now', 're', 'itself', \"couldn't\", 'hasn', 'was', 'who', 'this', 'had', 'after', 'do', 'ain', 'no', \"haven't\", 'down', 'where', \"that'll\", 'couldn', 'won', 'he', 'can', \"hasn't\", \"needn't\", 'they', 'it', 'through', 'd', \"you're\", 'at', \"shan't\", 'shouldn', 'me', 'these', 'for', \"didn't\", 'in', 'during', 'will', \"don't\", \"weren't\", 'is', 'y', 'as', 'all', 'such', 'wouldn', 'whom', 'there', 'did', 'if', 'same', 'ourselves', 'its', \"aren't\", 'and', 'the', 'aren', 'again', \"she's\", 'ours', 'by', 'until', 'each', 'up', 'of', 'but', 'against', \"you'd\", 'you', 'didn', 'does', 'himself', 'she', 'having', 'ma', 'from', \"it's\", 'how', 'nor', 'because', 'why', \"hadn't\", 'hers', 'yourselves', 'above', 've', 'don', 'a', 'm', 'be', \"shouldn't\", 'themselves', \"wasn't\", \"wouldn't\", 'needn', \"should've\", 'being', 'll', \"you'll\", 'that', 'weren', 'doing', 'were', 'him', 'your', 'over', 'other', 'under', 'yours', 't', 'on', 'myself', \"mightn't\", 'their', 'our', 'haven', 'shan', 'than', 'mightn', 'or', 'have', 'below', 'off', 'too', 'once', 'very', 'are', 'only', 'about', 'those', 'what', \"mustn't\", 'not', 'while', 'few', 'own', 'my', 'wasn', 'isn', 'doesn', 'yourself', 'between', 'theirs', 'her', 'hadn', 'we', 'some', 'just', \"isn't\", 'which', 'more', 'when', 'with', \"doesn't\"}\n"
     ]
    },
    {
     "name": "stderr",
     "output_type": "stream",
     "text": [
      "[nltk_data] Downloading package stopwords to\n",
      "[nltk_data]     C:\\Users\\Virtual\\AppData\\Roaming\\nltk_data...\n",
      "[nltk_data]   Package stopwords is already up-to-date!\n"
     ]
    }
   ],
   "source": [
    "##########################################################################\n",
    "##                 DATA SCIENCE: M09.T01: Exercici 2                    ##\n",
    "##########################################################################\n",
    "# Exercici 2: Treu les stopwords i realitza stemming al teu conjunt de dades.\n",
    "\n",
    "#import library\n",
    "import nltk\n",
    "nltk.download('stopwords')\n",
    "    \n",
    "from nltk.corpus import stopwords\n",
    "stop_words=set(stopwords.words(\"english\"))\n",
    "\n",
    "print(\"Les 'Stop words' són les següents:\")\n",
    "print(stop_words)\n",
    "\n",
    "\n"
   ]
  },
  {
   "cell_type": "code",
   "execution_count": 123,
   "id": "41e7dfe0",
   "metadata": {
    "run_control": {
     "marked": true
    }
   },
   "outputs": [
    {
     "name": "stdout",
     "output_type": "stream",
     "text": [
      "Frase Original: ['French', 'astronaut', 'Thomas', 'Pesquet', 'spent', 'six', 'months', 'aboard', 'the', 'International', 'Space', 'Station', 'last', 'year', ',', 'and', 'his', 'view', 'of', 'the', 'Earth', 'was', 'as', 'alarming', 'as', 'it', 'was', 'breathtaking', '.', 'Long', 'periods', 'with', 'his', 'feet', 'off', 'solid', 'ground', 'gave', 'him', 'a', 'unique', 'and', 'privileged', 'perspective', 'on', 'our', 'planet', '.', 'His', 'Instagram', 'account', 'is', 'bursting', 'with', 'beautiful', 'images', 'of', '“', 'the', 'blue', 'ball', 'we', 'call', 'home.', '”', 'But', 'the', 'beauty', 'is', 'tainted', '.', 'Pesquet', 'says', 'that', 'even', 'from', 'space', 'the', 'effects', 'of', 'climate', 'change', 'are', 'visible', '.', 'He', 'says', 'that', 'since', 'his', 'previous', 'visit', 'to', 'space', ',', 'in', '2016', ',', 'the', 'consequences', 'of', 'human', 'activity', 'have', 'become', 'even', 'more', 'apparent', ',', 'with', 'glaciers', 'visibly', 'retreating', ',', 'and', 'a', 'rise', 'in', 'extreme', 'weather', 'events', '.']\n",
      "\n",
      "Frase sense 'Stopword': ['French', 'astronaut', 'Thomas', 'Pesquet', 'spent', 'six', 'months', 'aboard', 'International', 'Space', 'Station', 'last', 'year', ',', 'view', 'Earth', 'alarming', 'breathtaking', '.', 'Long', 'periods', 'feet', 'solid', 'ground', 'gave', 'unique', 'privileged', 'perspective', 'planet', '.', 'His', 'Instagram', 'account', 'bursting', 'beautiful', 'images', '“', 'blue', 'ball', 'call', 'home.', '”', 'But', 'beauty', 'tainted', '.', 'Pesquet', 'says', 'even', 'space', 'effects', 'climate', 'change', 'visible', '.', 'He', 'says', 'since', 'previous', 'visit', 'space', ',', '2016', ',', 'consequences', 'human', 'activity', 'become', 'even', 'apparent', ',', 'glaciers', 'visibly', 'retreating', ',', 'rise', 'extreme', 'weather', 'events', '.']\n"
     ]
    }
   ],
   "source": [
    "filtered_sent=[]\n",
    "\n",
    "# Do a bucle to drop the \"stop words\" from our sentence\n",
    "for w in tokenized_word:\n",
    "    if w not in stop_words:\n",
    "        filtered_sent.append(w)\n",
    "\n",
    "# Print the Results\n",
    "print(\"Frase Original:\",tokenized_word)\n",
    "print(\"\")\n",
    "print(\"Frase sense 'Stopword':\",filtered_sent)"
   ]
  },
  {
   "cell_type": "code",
   "execution_count": 124,
   "id": "0be14afd",
   "metadata": {},
   "outputs": [
    {
     "name": "stdout",
     "output_type": "stream",
     "text": [
      "<FreqDist with 90 samples and 122 outcomes>\n",
      "<FreqDist with 90 samples and 122 outcomes>\n"
     ]
    }
   ],
   "source": [
    "# Frecuency from Original tokenized text\n",
    "fdist = FreqDist(tokenized_word)\n",
    "print(fdist)                            # Print Result\n",
    "\n",
    "\n",
    "# Frecuency from Original tokenized text\n",
    "fdist = FreqDist(tokenized_word)\n",
    "print(fdist)                            # Print Result"
   ]
  },
  {
   "cell_type": "code",
   "execution_count": 125,
   "id": "4f187e15",
   "metadata": {},
   "outputs": [
    {
     "name": "stdout",
     "output_type": "stream",
     "text": [
      "Tokenized Sentence: ['French', 'astronaut', 'Thomas', 'Pesquet', 'spent', 'six', 'months', 'aboard', 'the', 'International', 'Space', 'Station', 'last', 'year', ',', 'and', 'his', 'view', 'of', 'the', 'Earth', 'was', 'as', 'alarming', 'as', 'it', 'was', 'breathtaking', '.', 'Long', 'periods', 'with', 'his', 'feet', 'off', 'solid', 'ground', 'gave', 'him', 'a', 'unique', 'and', 'privileged', 'perspective', 'on', 'our', 'planet', '.', 'His', 'Instagram', 'account', 'is', 'bursting', 'with', 'beautiful', 'images', 'of', '“', 'the', 'blue', 'ball', 'we', 'call', 'home.', '”', 'But', 'the', 'beauty', 'is', 'tainted', '.', 'Pesquet', 'says', 'that', 'even', 'from', 'space', 'the', 'effects', 'of', 'climate', 'change', 'are', 'visible', '.', 'He', 'says', 'that', 'since', 'his', 'previous', 'visit', 'to', 'space', ',', 'in', '2016', ',', 'the', 'consequences', 'of', 'human', 'activity', 'have', 'become', 'even', 'more', 'apparent', ',', 'with', 'glaciers', 'visibly', 'retreating', ',', 'and', 'a', 'rise', 'in', 'extreme', 'weather', 'events', '.']\n",
      "\n",
      "Filterd Sentence: ['french', 'astronaut', 'thoma', 'pesquet', 'spent', 'six', 'month', 'aboard', 'intern', 'space', 'station', 'last', 'year', ',', 'view', 'earth', 'alarm', 'breathtak', '.', 'long', 'period', 'feet', 'solid', 'ground', 'gave', 'uniqu', 'privileg', 'perspect', 'planet', '.', 'hi', 'instagram', 'account', 'burst', 'beauti', 'imag', '“', 'blue', 'ball', 'call', 'home.', '”', 'but', 'beauti', 'taint', '.', 'pesquet', 'say', 'even', 'space', 'effect', 'climat', 'chang', 'visibl', '.', 'he', 'say', 'sinc', 'previou', 'visit', 'space', ',', '2016', ',', 'consequ', 'human', 'activ', 'becom', 'even', 'appar', ',', 'glacier', 'visibl', 'retreat', ',', 'rise', 'extrem', 'weather', 'event', '.']\n"
     ]
    }
   ],
   "source": [
    "stemming_word=[]\n",
    "\n",
    "#Import Library\n",
    "from nltk.stem import PorterStemmer\n",
    "from nltk.stem import LancasterStemmer\n",
    "\n",
    "#create an object of class PorterStemmer\n",
    "porter = PorterStemmer()\n",
    "lancaster=LancasterStemmer()\n",
    "\n",
    "# Do a bucle to steaming the words from our sentence\n",
    "for w in tokenized_word:\n",
    "    if w not in stop_words:\n",
    "        stemming_word.append(porter.stem(w))\n",
    "        \n",
    "print(\"Tokenized Sentence:\",tokenized_word)\n",
    "print(\"\")\n",
    "print(\"Filterd Sentence:\",stemming_word)"
   ]
  },
  {
   "cell_type": "code",
   "execution_count": 128,
   "id": "2642845a",
   "metadata": {
    "run_control": {
     "marked": false
    }
   },
   "outputs": [
    {
     "name": "stdout",
     "output_type": "stream",
     "text": [
      "French astronaut Thomas Pesquet spent six months aboard the International \n",
      "     Space Station last year, and his view of the Earth was as alarming as it was breathtaking.\n",
      "neg :  0.011\n",
      "\n",
      "neu :  0.869\n",
      "\n",
      "pos :  0.12\n",
      "\n",
      "compound :  0.8934\n",
      "\n",
      "Long periods with his feet off solid ground gave him a unique and privileged perspective on \n",
      "     our planet.\n",
      "neg :  0.011\n",
      "\n",
      "neu :  0.869\n",
      "\n",
      "pos :  0.12\n",
      "\n",
      "compound :  0.8934\n",
      "\n",
      "His Instagram account is bursting with beautiful images of “the blue ball we \n",
      "     call home.” But the beauty is tainted.\n",
      "neg :  0.011\n",
      "\n",
      "neu :  0.869\n",
      "\n",
      "pos :  0.12\n",
      "\n",
      "compound :  0.8934\n",
      "\n",
      "Pesquet says that even from space the effects of \n",
      "     climate change are visible.\n",
      "neg :  0.011\n",
      "\n",
      "neu :  0.869\n",
      "\n",
      "pos :  0.12\n",
      "\n",
      "compound :  0.8934\n",
      "\n",
      "He says that since his previous visit to space, in 2016, the consequences of human activity \n",
      "     have become even more apparent, with glaciers visibly retreating, and a rise in extreme \n",
      "     weather events.\n",
      "neg :  0.011\n",
      "\n",
      "neu :  0.869\n",
      "\n",
      "pos :  0.12\n",
      "\n",
      "compound :  0.8934\n",
      "\n"
     ]
    },
    {
     "name": "stderr",
     "output_type": "stream",
     "text": [
      "[nltk_data] Downloading package vader_lexicon to\n",
      "[nltk_data]     C:\\Users\\Virtual\\AppData\\Roaming\\nltk_data...\n",
      "[nltk_data]   Package vader_lexicon is already up-to-date!\n"
     ]
    }
   ],
   "source": [
    "##########################################################################\n",
    "##                 DATA SCIENCE: M09.T01: Exercici 3                    ##\n",
    "##########################################################################\n",
    "# Exercici 3: Realitza sentiment analysis al teu conjunt de dades.\n",
    "\n",
    "#Import library\n",
    "import nltk\n",
    "nltk.download('vader_lexicon')\n",
    "\n",
    "from nltk.sentiment.vader import SentimentIntensityAnalyzer\n",
    "from nltk import sentiment\n",
    "from nltk import word_tokenize\n",
    "\n",
    "\n",
    "\n",
    "\n",
    "# Take the text tokenized Before and do the SENTIMENT ANALYSIS \n",
    "for sentence in tokenized_text:\n",
    "    print(sentence)\n",
    "    scores = analizador.polarity_scores(text)\n",
    "    for key in scores:\n",
    "       print(key, ': ', scores[key])\n",
    "       print()\n"
   ]
  },
  {
   "cell_type": "code",
   "execution_count": null,
   "id": "2ae6c731",
   "metadata": {},
   "outputs": [],
   "source": []
  }
 ],
 "metadata": {
  "hide_input": false,
  "kernelspec": {
   "display_name": "Python 3 (ipykernel)",
   "language": "python",
   "name": "python3"
  },
  "language_info": {
   "codemirror_mode": {
    "name": "ipython",
    "version": 3
   },
   "file_extension": ".py",
   "mimetype": "text/x-python",
   "name": "python",
   "nbconvert_exporter": "python",
   "pygments_lexer": "ipython3",
   "version": "3.9.7"
  },
  "nbTranslate": {
   "displayLangs": [
    "*"
   ],
   "hotkey": "alt-t",
   "langInMainMenu": true,
   "sourceLang": "en",
   "targetLang": "fr",
   "useGoogleTranslate": true
  },
  "toc": {
   "base_numbering": 1,
   "nav_menu": {},
   "number_sections": true,
   "sideBar": true,
   "skip_h1_title": false,
   "title_cell": "Table of Contents",
   "title_sidebar": "Contents",
   "toc_cell": false,
   "toc_position": {},
   "toc_section_display": true,
   "toc_window_display": false
  },
  "varInspector": {
   "cols": {
    "lenName": 16,
    "lenType": 16,
    "lenVar": 40
   },
   "kernels_config": {
    "python": {
     "delete_cmd_postfix": "",
     "delete_cmd_prefix": "del ",
     "library": "var_list.py",
     "varRefreshCmd": "print(var_dic_list())"
    },
    "r": {
     "delete_cmd_postfix": ") ",
     "delete_cmd_prefix": "rm(",
     "library": "var_list.r",
     "varRefreshCmd": "cat(var_dic_list()) "
    }
   },
   "types_to_exclude": [
    "module",
    "function",
    "builtin_function_or_method",
    "instance",
    "_Feature"
   ],
   "window_display": false
  }
 },
 "nbformat": 4,
 "nbformat_minor": 5
}
